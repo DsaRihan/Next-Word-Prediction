{
 "cells": [
  {
   "cell_type": "markdown",
   "metadata": {},
   "source": [
    "# Next Word Prediction:"
   ]
  },
  {
   "cell_type": "markdown",
   "metadata": {},
   "source": [
    "### Importing The Required Libraries:"
   ]
  },
  {
   "cell_type": "code",
   "execution_count": 1,
   "metadata": {},
   "outputs": [],
   "source": [
    "import tensorflow as tf\n",
    "from tensorflow.keras.preprocessing.text import Tokenizer\n",
    "from tensorflow.keras.layers import Embedding, LSTM, Dense\n",
    "from tensorflow.keras.models import Sequential\n",
    "from tensorflow.keras.utils import to_categorical\n",
    "from tensorflow.keras.optimizers import Adam\n",
    "import pickle\n",
    "import numpy as np\n",
    "import os"
   ]
  },
  {
   "cell_type": "code",
   "execution_count": 2,
   "metadata": {},
   "outputs": [
    {
     "name": "stdout",
     "output_type": "stream",
     "text": [
      "The First Line:  ﻿One morning, when Gregor Samsa woke from troubled dreams, he found\n",
      "\n",
      "The Last Line:  first to get up and stretch out her young body.\n"
     ]
    }
   ],
   "source": [
    "file = open(\"metamorphosis_clean.txt\", \"r\", encoding = \"utf8\")\n",
    "lines = []\n",
    "\n",
    "for i in file:\n",
    "    lines.append(i)\n",
    "    \n",
    "print(\"The First Line: \", lines[0])\n",
    "print(\"The Last Line: \", lines[-1])"
   ]
  },
  {
   "cell_type": "markdown",
   "metadata": {},
   "source": [
    "### Cleaning the data:"
   ]
  },
  {
   "cell_type": "code",
   "execution_count": 3,
   "metadata": {},
   "outputs": [
    {
     "data": {
      "text/plain": [
       "'One morning, when Gregor Samsa woke from troubled dreams, he found himself transformed in his bed into a horrible vermin.  He lay on his armour-like back, and if he lifted his head a little he could see his brown belly, slightly domed and divided by arches into stiff sections.  The bedding was hardly able to cover it and seemed ready to slide off any moment.'"
      ]
     },
     "execution_count": 3,
     "metadata": {},
     "output_type": "execute_result"
    }
   ],
   "source": [
    "data = \"\"\n",
    "\n",
    "for i in lines:\n",
    "    data = ' '. join(lines)\n",
    "\n",
    "    #removes unwanted char \n",
    "data = data.replace('\\n', '').replace('\\r', '').replace('\\ufeff', '')\n",
    "data[:360]"
   ]
  },
  {
   "cell_type": "code",
   "execution_count": 4,
   "metadata": {},
   "outputs": [
    {
     "data": {
      "text/plain": [
       "'One morning  when Gregor Samsa woke from troubled dreams  he found himself transformed in his bed into a horrible vermin   He lay on his armour like back  and if he lifted his head a little he could see his brown belly  slightly domed and divided by arches into stiff sections   The bedding was hardly able to cover it and seemed ready to slide off any moment   His many legs  pitifully thin compared with the size of the rest of him  waved about helplessly as he looked    What s happened to me   he'"
      ]
     },
     "execution_count": 4,
     "metadata": {},
     "output_type": "execute_result"
    }
   ],
   "source": [
    "import string\n",
    "\n",
    "translator = str.maketrans(string.punctuation, ' '*len(string.punctuation)) #map punctuation to space\n",
    "new_data = data.translate(translator)\n",
    "\n",
    "new_data[:500]"
   ]
  },
  {
   "cell_type": "code",
   "execution_count": 5,
   "metadata": {},
   "outputs": [
    {
     "data": {
      "text/plain": [
       "'One morning, when Gregor Samsa woke from troubled dreams, he found himself transformed in his bed into a horrible vermin. He lay on armour-like back, and if lifted head little could see brown belly, slightly domed divided by arches stiff sections. The bedding was hardly able to cover it seemed ready slide off any moment. His many legs, pitifully thin compared with the size of rest him, waved about helplessly as looked. \"What\\'s happened me?\" thought. It wasn\\'t dream. room, proper human room altho'"
      ]
     },
     "execution_count": 5,
     "metadata": {},
     "output_type": "execute_result"
    }
   ],
   "source": [
    "z = []\n",
    "\n",
    "for i in data.split():\n",
    "    if i not in z:\n",
    "        z.append(i)\n",
    "        \n",
    "data = ' '.join(z)\n",
    "data[:500]"
   ]
  },
  {
   "cell_type": "markdown",
   "metadata": {},
   "source": [
    "### Tokenization:"
   ]
  },
  {
   "cell_type": "code",
   "execution_count": 6,
   "metadata": {},
   "outputs": [
    {
     "data": {
      "text/plain": [
       "[17, 53, 293, 2, 18, 729, 135, 730, 294, 8]"
      ]
     },
     "execution_count": 6,
     "metadata": {},
     "output_type": "execute_result"
    }
   ],
   "source": [
    "tokenizer = Tokenizer()\n",
    "# assigns unique integeer index to each word\n",
    "tokenizer.fit_on_texts([data])  \n",
    "\n",
    "# saving the tokenizer for predict function.\n",
    "pickle.dump(tokenizer, open('tokenizer1.pkl', 'wb'))\n",
    "\n",
    "#  string is replaced with its corresponding integer index from the vocabulary.\n",
    "sequence_data = tokenizer.texts_to_sequences([data])[0]\n",
    "sequence_data[:10]"
   ]
  },
  {
   "cell_type": "code",
   "execution_count": 7,
   "metadata": {},
   "outputs": [
    {
     "name": "stdout",
     "output_type": "stream",
     "text": [
      "2617\n"
     ]
    }
   ],
   "source": [
    "# calculates the vocabulary size,returns the number of unique words in the vocabulary\n",
    "vocab_size = len(tokenizer.word_index) + 1\n",
    "print(vocab_size)"
   ]
  },
  {
   "cell_type": "code",
   "execution_count": 8,
   "metadata": {},
   "outputs": [
    {
     "name": "stdout",
     "output_type": "stream",
     "text": [
      "The Length of sequences are:  3889\n"
     ]
    },
    {
     "data": {
      "text/plain": [
       "array([[ 17,  53],\n",
       "       [ 53, 293],\n",
       "       [293,   2],\n",
       "       [  2,  18],\n",
       "       [ 18, 729],\n",
       "       [729, 135],\n",
       "       [135, 730],\n",
       "       [730, 294],\n",
       "       [294,   8],\n",
       "       [  8, 731]])"
      ]
     },
     "execution_count": 8,
     "metadata": {},
     "output_type": "execute_result"
    }
   ],
   "source": [
    "sequences = []\n",
    "\n",
    "for i in range(1, len(sequence_data)):\n",
    "    words = sequence_data[i-1:i+1]\n",
    "    sequences.append(words)\n",
    "    \n",
    "print(\"The Length of sequences are: \", len(sequences))\n",
    "sequences = np.array(sequences)\n",
    "sequences[:10]"
   ]
  },
  {
   "cell_type": "code",
   "execution_count": 9,
   "metadata": {},
   "outputs": [],
   "source": [
    "X = []\n",
    "y = []\n",
    "\n",
    "for i in sequences:\n",
    "    X.append(i[0])\n",
    "    y.append(i[1])\n",
    "    \n",
    "X = np.array(X)\n",
    "y = np.array(y)"
   ]
  },
  {
   "cell_type": "code",
   "execution_count": 10,
   "metadata": {},
   "outputs": [
    {
     "name": "stdout",
     "output_type": "stream",
     "text": [
      "The Data is:  [ 17  53 293   2  18]\n",
      "The responses are:  [ 53 293   2  18 729]\n"
     ]
    }
   ],
   "source": [
    "print(\"The Data is: \", X[:5])\n",
    "print(\"The responses are: \", y[:5])"
   ]
  },
  {
   "cell_type": "code",
   "execution_count": 11,
   "metadata": {},
   "outputs": [
    {
     "data": {
      "text/plain": [
       "array([[0., 0., 0., ..., 0., 0., 0.],\n",
       "       [0., 0., 0., ..., 0., 0., 0.],\n",
       "       [0., 0., 1., ..., 0., 0., 0.],\n",
       "       [0., 0., 0., ..., 0., 0., 0.],\n",
       "       [0., 0., 0., ..., 0., 0., 0.]], dtype=float32)"
      ]
     },
     "execution_count": 11,
     "metadata": {},
     "output_type": "execute_result"
    }
   ],
   "source": [
    "# one hot encoding\n",
    "y = to_categorical(y, num_classes=vocab_size)\n",
    "y[:5]"
   ]
  },
  {
   "cell_type": "markdown",
   "metadata": {},
   "source": [
    "### Creating the Model:"
   ]
  },
  {
   "cell_type": "code",
   "execution_count": 12,
   "metadata": {},
   "outputs": [],
   "source": [
    "model = Sequential()\n",
    "model.add(Embedding(vocab_size, 10, input_length=1))\n",
    "model.add(LSTM(1000, return_sequences=True))\n",
    "model.add(LSTM(1000))\n",
    "model.add(Dense(1000, activation=\"relu\"))\n",
    "model.add(Dense(vocab_size, activation=\"softmax\"))"
   ]
  },
  {
   "cell_type": "code",
   "execution_count": 13,
   "metadata": {},
   "outputs": [
    {
     "name": "stdout",
     "output_type": "stream",
     "text": [
      "Model: \"sequential\"\n",
      "_________________________________________________________________\n",
      " Layer (type)                Output Shape              Param #   \n",
      "=================================================================\n",
      " embedding (Embedding)       (None, 1, 10)             26170     \n",
      "                                                                 \n",
      " lstm (LSTM)                 (None, 1, 1000)           4044000   \n",
      "                                                                 \n",
      " lstm_1 (LSTM)               (None, 1000)              8004000   \n",
      "                                                                 \n",
      " dense (Dense)               (None, 1000)              1001000   \n",
      "                                                                 \n",
      " dense_1 (Dense)             (None, 2617)              2619617   \n",
      "                                                                 \n",
      "=================================================================\n",
      "Total params: 15694787 (59.87 MB)\n",
      "Trainable params: 15694787 (59.87 MB)\n",
      "Non-trainable params: 0 (0.00 Byte)\n",
      "_________________________________________________________________\n"
     ]
    }
   ],
   "source": [
    "model.summary()"
   ]
  },
  {
   "cell_type": "markdown",
   "metadata": {},
   "source": [
    "### Plot The Model:"
   ]
  },
  {
   "cell_type": "code",
   "execution_count": 24,
   "metadata": {},
   "outputs": [
    {
     "name": "stdout",
     "output_type": "stream",
     "text": [
      "You must install pydot (`pip install pydot`) and install graphviz (see instructions at https://graphviz.gitlab.io/download/) for plot_model to work.\n"
     ]
    }
   ],
   "source": [
    "# from tensorflow import keras\n",
    "# from keras.utils.vis_utils import plot_model\n",
    "\n",
    "# keras.utils.plot_model(model, to_file='model.png', show_layer_names=True)\n",
    "from tensorflow import keras\n",
    "from tensorflow.keras.utils import plot_model\n",
    "\n",
    "plot_model(model, to_file='model.png', show_layer_names=True)\n"
   ]
  },
  {
   "cell_type": "markdown",
   "metadata": {},
   "source": [
    "### Callbacks:"
   ]
  },
  {
   "cell_type": "code",
   "execution_count": 15,
   "metadata": {},
   "outputs": [],
   "source": [
    "# callback-saving the best model,\n",
    "from tensorflow.keras.callbacks import ModelCheckpoint\n",
    "from tensorflow.keras.callbacks import ReduceLROnPlateau\n",
    "from tensorflow.keras.callbacks import TensorBoard\n",
    "\n",
    "checkpoint = ModelCheckpoint(\"nextword1.h5\", monitor='loss', verbose=1,\n",
    "    save_best_only=True, mode='auto')\n",
    "\n",
    "reduce = ReduceLROnPlateau(monitor='loss', factor=0.2, patience=3, min_lr=0.0001, verbose = 1)\n",
    "\n",
    "logdir='logsnextword1'\n",
    "tensorboard_Visualization = TensorBoard(log_dir=logdir)"
   ]
  },
  {
   "cell_type": "markdown",
   "metadata": {},
   "source": [
    "### Compile The Model:"
   ]
  },
  {
   "cell_type": "code",
   "execution_count": 16,
   "metadata": {},
   "outputs": [
    {
     "name": "stderr",
     "output_type": "stream",
     "text": [
      "WARNING:absl:`lr` is deprecated in Keras optimizer, please use `learning_rate` or use the legacy optimizer, e.g.,tf.keras.optimizers.legacy.Adam.\n"
     ]
    }
   ],
   "source": [
    "#  categorical data with more than two classes.\n",
    "model.compile(loss=\"categorical_crossentropy\", optimizer=Adam(lr=0.001))"
   ]
  },
  {
   "cell_type": "markdown",
   "metadata": {},
   "source": [
    "### Fit The Model:"
   ]
  },
  {
   "cell_type": "code",
   "execution_count": 17,
   "metadata": {},
   "outputs": [
    {
     "name": "stdout",
     "output_type": "stream",
     "text": [
      "Epoch 1/150\n",
      "61/61 [==============================] - ETA: 0s - loss: 7.8755\n",
      "Epoch 1: loss improved from inf to 7.87546, saving model to nextword1.h5\n"
     ]
    },
    {
     "name": "stderr",
     "output_type": "stream",
     "text": [
      "/Users/rihandsa/anaconda3/envs/rihan/lib/python3.11/site-packages/keras/src/engine/training.py:3000: UserWarning: You are saving your model as an HDF5 file via `model.save()`. This file format is considered legacy. We recommend using instead the native Keras format, e.g. `model.save('my_model.keras')`.\n",
      "  saving_api.save_model(\n"
     ]
    },
    {
     "name": "stdout",
     "output_type": "stream",
     "text": [
      "61/61 [==============================] - 7s 84ms/step - loss: 7.8755 - lr: 0.0010\n",
      "Epoch 2/150\n",
      "61/61 [==============================] - ETA: 0s - loss: 7.8618\n",
      "Epoch 2: loss improved from 7.87546 to 7.86181, saving model to nextword1.h5\n",
      "61/61 [==============================] - 5s 82ms/step - loss: 7.8618 - lr: 0.0010\n",
      "Epoch 3/150\n",
      "61/61 [==============================] - ETA: 0s - loss: 7.8121\n",
      "Epoch 3: loss improved from 7.86181 to 7.81212, saving model to nextword1.h5\n",
      "61/61 [==============================] - 5s 87ms/step - loss: 7.8121 - lr: 0.0010\n",
      "Epoch 4/150\n",
      "61/61 [==============================] - ETA: 0s - loss: 7.6275\n",
      "Epoch 4: loss improved from 7.81212 to 7.62751, saving model to nextword1.h5\n",
      "61/61 [==============================] - 5s 81ms/step - loss: 7.6275 - lr: 0.0010\n",
      "Epoch 5/150\n",
      "61/61 [==============================] - ETA: 0s - loss: 7.4237\n",
      "Epoch 5: loss improved from 7.62751 to 7.42372, saving model to nextword1.h5\n",
      "61/61 [==============================] - 5s 75ms/step - loss: 7.4237 - lr: 0.0010\n",
      "Epoch 6/150\n",
      "61/61 [==============================] - ETA: 0s - loss: 7.2445\n",
      "Epoch 6: loss improved from 7.42372 to 7.24450, saving model to nextword1.h5\n",
      "61/61 [==============================] - 5s 88ms/step - loss: 7.2445 - lr: 0.0010\n",
      "Epoch 7/150\n",
      "61/61 [==============================] - ETA: 0s - loss: 7.1401\n",
      "Epoch 7: loss improved from 7.24450 to 7.14011, saving model to nextword1.h5\n",
      "61/61 [==============================] - 5s 81ms/step - loss: 7.1401 - lr: 0.0010\n",
      "Epoch 8/150\n",
      "61/61 [==============================] - ETA: 0s - loss: 7.0425\n",
      "Epoch 8: loss improved from 7.14011 to 7.04248, saving model to nextword1.h5\n",
      "61/61 [==============================] - 5s 74ms/step - loss: 7.0425 - lr: 0.0010\n",
      "Epoch 9/150\n",
      "61/61 [==============================] - ETA: 0s - loss: 6.9083\n",
      "Epoch 9: loss improved from 7.04248 to 6.90827, saving model to nextword1.h5\n",
      "61/61 [==============================] - 5s 75ms/step - loss: 6.9083 - lr: 0.0010\n",
      "Epoch 10/150\n",
      "61/61 [==============================] - ETA: 0s - loss: 6.6901\n",
      "Epoch 10: loss improved from 6.90827 to 6.69013, saving model to nextword1.h5\n",
      "61/61 [==============================] - 5s 79ms/step - loss: 6.6901 - lr: 0.0010\n",
      "Epoch 11/150\n",
      "61/61 [==============================] - ETA: 0s - loss: 6.4307\n",
      "Epoch 11: loss improved from 6.69013 to 6.43069, saving model to nextword1.h5\n",
      "61/61 [==============================] - 5s 80ms/step - loss: 6.4307 - lr: 0.0010\n",
      "Epoch 12/150\n",
      "61/61 [==============================] - ETA: 0s - loss: 6.1870\n",
      "Epoch 12: loss improved from 6.43069 to 6.18705, saving model to nextword1.h5\n",
      "61/61 [==============================] - 5s 75ms/step - loss: 6.1870 - lr: 0.0010\n",
      "Epoch 13/150\n",
      "61/61 [==============================] - ETA: 0s - loss: 5.9952\n",
      "Epoch 13: loss improved from 6.18705 to 5.99519, saving model to nextword1.h5\n",
      "61/61 [==============================] - 4s 74ms/step - loss: 5.9952 - lr: 0.0010\n",
      "Epoch 14/150\n",
      "61/61 [==============================] - ETA: 0s - loss: 5.8042\n",
      "Epoch 14: loss improved from 5.99519 to 5.80425, saving model to nextword1.h5\n",
      "61/61 [==============================] - 5s 84ms/step - loss: 5.8042 - lr: 0.0010\n",
      "Epoch 15/150\n",
      "61/61 [==============================] - ETA: 0s - loss: 5.6215\n",
      "Epoch 15: loss improved from 5.80425 to 5.62154, saving model to nextword1.h5\n",
      "61/61 [==============================] - 5s 85ms/step - loss: 5.6215 - lr: 0.0010\n",
      "Epoch 16/150\n",
      "61/61 [==============================] - ETA: 0s - loss: 5.4555\n",
      "Epoch 16: loss improved from 5.62154 to 5.45554, saving model to nextword1.h5\n",
      "61/61 [==============================] - 5s 87ms/step - loss: 5.4555 - lr: 0.0010\n",
      "Epoch 17/150\n",
      "61/61 [==============================] - ETA: 0s - loss: 5.3233\n",
      "Epoch 17: loss improved from 5.45554 to 5.32333, saving model to nextword1.h5\n",
      "61/61 [==============================] - 6s 101ms/step - loss: 5.3233 - lr: 0.0010\n",
      "Epoch 18/150\n",
      "61/61 [==============================] - ETA: 0s - loss: 5.1866\n",
      "Epoch 18: loss improved from 5.32333 to 5.18663, saving model to nextword1.h5\n",
      "61/61 [==============================] - 6s 90ms/step - loss: 5.1866 - lr: 0.0010\n",
      "Epoch 19/150\n",
      "61/61 [==============================] - ETA: 0s - loss: 5.0788\n",
      "Epoch 19: loss improved from 5.18663 to 5.07876, saving model to nextword1.h5\n",
      "61/61 [==============================] - 5s 90ms/step - loss: 5.0788 - lr: 0.0010\n",
      "Epoch 20/150\n",
      "61/61 [==============================] - ETA: 0s - loss: 4.9694\n",
      "Epoch 20: loss improved from 5.07876 to 4.96938, saving model to nextword1.h5\n",
      "61/61 [==============================] - 6s 98ms/step - loss: 4.9694 - lr: 0.0010\n",
      "Epoch 21/150\n",
      "61/61 [==============================] - ETA: 0s - loss: 4.8444\n",
      "Epoch 21: loss improved from 4.96938 to 4.84441, saving model to nextword1.h5\n",
      "61/61 [==============================] - 6s 95ms/step - loss: 4.8444 - lr: 0.0010\n",
      "Epoch 22/150\n",
      "61/61 [==============================] - ETA: 0s - loss: 4.7467\n",
      "Epoch 22: loss improved from 4.84441 to 4.74668, saving model to nextword1.h5\n",
      "61/61 [==============================] - 6s 91ms/step - loss: 4.7467 - lr: 0.0010\n",
      "Epoch 23/150\n",
      "61/61 [==============================] - ETA: 0s - loss: 4.6753\n",
      "Epoch 23: loss improved from 4.74668 to 4.67532, saving model to nextword1.h5\n",
      "61/61 [==============================] - 6s 91ms/step - loss: 4.6753 - lr: 0.0010\n",
      "Epoch 24/150\n",
      "61/61 [==============================] - ETA: 0s - loss: 4.5827\n",
      "Epoch 24: loss improved from 4.67532 to 4.58265, saving model to nextword1.h5\n",
      "61/61 [==============================] - 6s 95ms/step - loss: 4.5827 - lr: 0.0010\n",
      "Epoch 25/150\n",
      "61/61 [==============================] - ETA: 0s - loss: 4.5140\n",
      "Epoch 25: loss improved from 4.58265 to 4.51396, saving model to nextword1.h5\n",
      "61/61 [==============================] - 6s 92ms/step - loss: 4.5140 - lr: 0.0010\n",
      "Epoch 26/150\n",
      "61/61 [==============================] - ETA: 0s - loss: 4.4597\n",
      "Epoch 26: loss improved from 4.51396 to 4.45973, saving model to nextword1.h5\n",
      "61/61 [==============================] - 5s 84ms/step - loss: 4.4597 - lr: 0.0010\n",
      "Epoch 27/150\n",
      "61/61 [==============================] - ETA: 0s - loss: 4.3927\n",
      "Epoch 27: loss improved from 4.45973 to 4.39272, saving model to nextword1.h5\n",
      "61/61 [==============================] - 5s 78ms/step - loss: 4.3927 - lr: 0.0010\n",
      "Epoch 28/150\n",
      "61/61 [==============================] - ETA: 0s - loss: 4.3198\n",
      "Epoch 28: loss improved from 4.39272 to 4.31985, saving model to nextword1.h5\n",
      "61/61 [==============================] - 5s 84ms/step - loss: 4.3198 - lr: 0.0010\n",
      "Epoch 29/150\n",
      "61/61 [==============================] - ETA: 0s - loss: 4.2552\n",
      "Epoch 29: loss improved from 4.31985 to 4.25521, saving model to nextword1.h5\n",
      "61/61 [==============================] - 5s 83ms/step - loss: 4.2552 - lr: 0.0010\n",
      "Epoch 30/150\n",
      "61/61 [==============================] - ETA: 0s - loss: 4.2293\n",
      "Epoch 30: loss improved from 4.25521 to 4.22928, saving model to nextword1.h5\n",
      "61/61 [==============================] - 5s 79ms/step - loss: 4.2293 - lr: 0.0010\n",
      "Epoch 31/150\n",
      "61/61 [==============================] - ETA: 0s - loss: 4.1516\n",
      "Epoch 31: loss improved from 4.22928 to 4.15163, saving model to nextword1.h5\n",
      "61/61 [==============================] - 5s 85ms/step - loss: 4.1516 - lr: 0.0010\n",
      "Epoch 32/150\n",
      "61/61 [==============================] - ETA: 0s - loss: 4.1163\n",
      "Epoch 32: loss improved from 4.15163 to 4.11627, saving model to nextword1.h5\n",
      "61/61 [==============================] - 5s 84ms/step - loss: 4.1163 - lr: 0.0010\n",
      "Epoch 33/150\n",
      "61/61 [==============================] - ETA: 0s - loss: 4.0226\n",
      "Epoch 33: loss improved from 4.11627 to 4.02258, saving model to nextword1.h5\n",
      "61/61 [==============================] - 5s 84ms/step - loss: 4.0226 - lr: 0.0010\n",
      "Epoch 34/150\n",
      "61/61 [==============================] - ETA: 0s - loss: 3.9750\n",
      "Epoch 34: loss improved from 4.02258 to 3.97503, saving model to nextword1.h5\n",
      "61/61 [==============================] - 5s 80ms/step - loss: 3.9750 - lr: 0.0010\n",
      "Epoch 35/150\n",
      "61/61 [==============================] - ETA: 0s - loss: 3.9167\n",
      "Epoch 35: loss improved from 3.97503 to 3.91670, saving model to nextword1.h5\n",
      "61/61 [==============================] - 5s 82ms/step - loss: 3.9167 - lr: 0.0010\n",
      "Epoch 36/150\n",
      "61/61 [==============================] - ETA: 0s - loss: 3.8593\n",
      "Epoch 36: loss improved from 3.91670 to 3.85927, saving model to nextword1.h5\n",
      "61/61 [==============================] - 5s 80ms/step - loss: 3.8593 - lr: 0.0010\n",
      "Epoch 37/150\n",
      "61/61 [==============================] - ETA: 0s - loss: 3.7990\n",
      "Epoch 37: loss improved from 3.85927 to 3.79904, saving model to nextword1.h5\n",
      "61/61 [==============================] - 5s 81ms/step - loss: 3.7990 - lr: 0.0010\n",
      "Epoch 38/150\n",
      "61/61 [==============================] - ETA: 0s - loss: 3.7259\n",
      "Epoch 38: loss improved from 3.79904 to 3.72590, saving model to nextword1.h5\n",
      "61/61 [==============================] - 5s 81ms/step - loss: 3.7259 - lr: 0.0010\n",
      "Epoch 39/150\n",
      "61/61 [==============================] - ETA: 0s - loss: 3.6513\n",
      "Epoch 39: loss improved from 3.72590 to 3.65133, saving model to nextword1.h5\n",
      "61/61 [==============================] - 5s 78ms/step - loss: 3.6513 - lr: 0.0010\n",
      "Epoch 40/150\n",
      "61/61 [==============================] - ETA: 0s - loss: 3.5967\n",
      "Epoch 40: loss improved from 3.65133 to 3.59671, saving model to nextword1.h5\n",
      "61/61 [==============================] - 5s 82ms/step - loss: 3.5967 - lr: 0.0010\n",
      "Epoch 41/150\n",
      "61/61 [==============================] - ETA: 0s - loss: 3.5145\n",
      "Epoch 41: loss improved from 3.59671 to 3.51449, saving model to nextword1.h5\n",
      "61/61 [==============================] - 5s 85ms/step - loss: 3.5145 - lr: 0.0010\n",
      "Epoch 42/150\n",
      "61/61 [==============================] - ETA: 0s - loss: 3.4408\n",
      "Epoch 42: loss improved from 3.51449 to 3.44079, saving model to nextword1.h5\n",
      "61/61 [==============================] - 5s 80ms/step - loss: 3.4408 - lr: 0.0010\n",
      "Epoch 43/150\n",
      "61/61 [==============================] - ETA: 0s - loss: 3.4034\n",
      "Epoch 43: loss improved from 3.44079 to 3.40338, saving model to nextword1.h5\n",
      "61/61 [==============================] - 5s 80ms/step - loss: 3.4034 - lr: 0.0010\n",
      "Epoch 44/150\n",
      "61/61 [==============================] - ETA: 0s - loss: 3.2759\n",
      "Epoch 44: loss improved from 3.40338 to 3.27594, saving model to nextword1.h5\n",
      "61/61 [==============================] - 5s 79ms/step - loss: 3.2759 - lr: 0.0010\n",
      "Epoch 45/150\n",
      "61/61 [==============================] - ETA: 0s - loss: 3.1995\n",
      "Epoch 45: loss improved from 3.27594 to 3.19953, saving model to nextword1.h5\n",
      "61/61 [==============================] - 5s 86ms/step - loss: 3.1995 - lr: 0.0010\n",
      "Epoch 46/150\n",
      "61/61 [==============================] - ETA: 0s - loss: 3.1454\n",
      "Epoch 46: loss improved from 3.19953 to 3.14542, saving model to nextword1.h5\n",
      "61/61 [==============================] - 5s 81ms/step - loss: 3.1454 - lr: 0.0010\n",
      "Epoch 47/150\n",
      "61/61 [==============================] - ETA: 0s - loss: 3.0701\n",
      "Epoch 47: loss improved from 3.14542 to 3.07006, saving model to nextword1.h5\n",
      "61/61 [==============================] - 5s 78ms/step - loss: 3.0701 - lr: 0.0010\n",
      "Epoch 48/150\n",
      "61/61 [==============================] - ETA: 0s - loss: 2.9855\n",
      "Epoch 48: loss improved from 3.07006 to 2.98545, saving model to nextword1.h5\n",
      "61/61 [==============================] - 5s 86ms/step - loss: 2.9855 - lr: 0.0010\n",
      "Epoch 49/150\n",
      "61/61 [==============================] - ETA: 0s - loss: 2.9232\n",
      "Epoch 49: loss improved from 2.98545 to 2.92322, saving model to nextword1.h5\n",
      "61/61 [==============================] - 5s 78ms/step - loss: 2.9232 - lr: 0.0010\n",
      "Epoch 50/150\n",
      "61/61 [==============================] - ETA: 0s - loss: 2.8816\n",
      "Epoch 50: loss improved from 2.92322 to 2.88161, saving model to nextword1.h5\n",
      "61/61 [==============================] - 5s 79ms/step - loss: 2.8816 - lr: 0.0010\n",
      "Epoch 51/150\n",
      "61/61 [==============================] - ETA: 0s - loss: 2.8086\n",
      "Epoch 51: loss improved from 2.88161 to 2.80863, saving model to nextword1.h5\n",
      "61/61 [==============================] - 5s 76ms/step - loss: 2.8086 - lr: 0.0010\n",
      "Epoch 52/150\n",
      "61/61 [==============================] - ETA: 0s - loss: 2.7412\n",
      "Epoch 52: loss improved from 2.80863 to 2.74120, saving model to nextword1.h5\n",
      "61/61 [==============================] - 5s 74ms/step - loss: 2.7412 - lr: 0.0010\n",
      "Epoch 53/150\n",
      "61/61 [==============================] - ETA: 0s - loss: 2.6836\n",
      "Epoch 53: loss improved from 2.74120 to 2.68356, saving model to nextword1.h5\n",
      "61/61 [==============================] - 5s 75ms/step - loss: 2.6836 - lr: 0.0010\n",
      "Epoch 54/150\n",
      "61/61 [==============================] - ETA: 0s - loss: 2.6479\n",
      "Epoch 54: loss improved from 2.68356 to 2.64794, saving model to nextword1.h5\n",
      "61/61 [==============================] - 5s 79ms/step - loss: 2.6479 - lr: 0.0010\n",
      "Epoch 55/150\n",
      "61/61 [==============================] - ETA: 0s - loss: 2.6106\n",
      "Epoch 55: loss improved from 2.64794 to 2.61061, saving model to nextword1.h5\n",
      "61/61 [==============================] - 5s 85ms/step - loss: 2.6106 - lr: 0.0010\n",
      "Epoch 56/150\n",
      "61/61 [==============================] - ETA: 0s - loss: 2.5175\n",
      "Epoch 56: loss improved from 2.61061 to 2.51754, saving model to nextword1.h5\n",
      "61/61 [==============================] - 4s 73ms/step - loss: 2.5175 - lr: 0.0010\n",
      "Epoch 57/150\n",
      "61/61 [==============================] - ETA: 0s - loss: 2.4858\n",
      "Epoch 57: loss improved from 2.51754 to 2.48581, saving model to nextword1.h5\n",
      "61/61 [==============================] - 5s 77ms/step - loss: 2.4858 - lr: 0.0010\n",
      "Epoch 58/150\n",
      "61/61 [==============================] - ETA: 0s - loss: 2.4327\n",
      "Epoch 58: loss improved from 2.48581 to 2.43271, saving model to nextword1.h5\n",
      "61/61 [==============================] - 5s 77ms/step - loss: 2.4327 - lr: 0.0010\n",
      "Epoch 59/150\n",
      "61/61 [==============================] - ETA: 0s - loss: 2.4179\n",
      "Epoch 59: loss improved from 2.43271 to 2.41791, saving model to nextword1.h5\n",
      "61/61 [==============================] - 5s 75ms/step - loss: 2.4179 - lr: 0.0010\n",
      "Epoch 60/150\n",
      "61/61 [==============================] - ETA: 0s - loss: 2.3979\n",
      "Epoch 60: loss improved from 2.41791 to 2.39787, saving model to nextword1.h5\n",
      "61/61 [==============================] - 6s 94ms/step - loss: 2.3979 - lr: 0.0010\n",
      "Epoch 61/150\n",
      "61/61 [==============================] - ETA: 0s - loss: 2.3244\n",
      "Epoch 61: loss improved from 2.39787 to 2.32441, saving model to nextword1.h5\n",
      "61/61 [==============================] - 5s 85ms/step - loss: 2.3244 - lr: 0.0010\n",
      "Epoch 62/150\n",
      "61/61 [==============================] - ETA: 0s - loss: 2.2658\n",
      "Epoch 62: loss improved from 2.32441 to 2.26584, saving model to nextword1.h5\n",
      "61/61 [==============================] - 5s 79ms/step - loss: 2.2658 - lr: 0.0010\n",
      "Epoch 63/150\n",
      "61/61 [==============================] - ETA: 0s - loss: 2.2372\n",
      "Epoch 63: loss improved from 2.26584 to 2.23716, saving model to nextword1.h5\n",
      "61/61 [==============================] - 5s 79ms/step - loss: 2.2372 - lr: 0.0010\n",
      "Epoch 64/150\n",
      "61/61 [==============================] - ETA: 0s - loss: 2.2277\n",
      "Epoch 64: loss improved from 2.23716 to 2.22769, saving model to nextword1.h5\n",
      "61/61 [==============================] - 5s 79ms/step - loss: 2.2277 - lr: 0.0010\n",
      "Epoch 65/150\n",
      "61/61 [==============================] - ETA: 0s - loss: 2.1613\n",
      "Epoch 65: loss improved from 2.22769 to 2.16133, saving model to nextword1.h5\n",
      "61/61 [==============================] - 5s 80ms/step - loss: 2.1613 - lr: 0.0010\n",
      "Epoch 66/150\n",
      "61/61 [==============================] - ETA: 0s - loss: 2.1365\n",
      "Epoch 66: loss improved from 2.16133 to 2.13649, saving model to nextword1.h5\n",
      "61/61 [==============================] - 5s 79ms/step - loss: 2.1365 - lr: 0.0010\n",
      "Epoch 67/150\n",
      "61/61 [==============================] - ETA: 0s - loss: 2.1275\n",
      "Epoch 67: loss improved from 2.13649 to 2.12748, saving model to nextword1.h5\n",
      "61/61 [==============================] - 5s 81ms/step - loss: 2.1275 - lr: 0.0010\n",
      "Epoch 68/150\n",
      "61/61 [==============================] - ETA: 0s - loss: 2.1028\n",
      "Epoch 68: loss improved from 2.12748 to 2.10285, saving model to nextword1.h5\n",
      "61/61 [==============================] - 5s 85ms/step - loss: 2.1028 - lr: 0.0010\n",
      "Epoch 69/150\n",
      "61/61 [==============================] - ETA: 0s - loss: 2.0610\n",
      "Epoch 69: loss improved from 2.10285 to 2.06095, saving model to nextword1.h5\n",
      "61/61 [==============================] - 5s 80ms/step - loss: 2.0610 - lr: 0.0010\n",
      "Epoch 70/150\n",
      "61/61 [==============================] - ETA: 0s - loss: 2.0200\n",
      "Epoch 70: loss improved from 2.06095 to 2.02002, saving model to nextword1.h5\n",
      "61/61 [==============================] - 5s 84ms/step - loss: 2.0200 - lr: 0.0010\n",
      "Epoch 71/150\n",
      "61/61 [==============================] - ETA: 0s - loss: 2.0045\n",
      "Epoch 71: loss improved from 2.02002 to 2.00449, saving model to nextword1.h5\n",
      "61/61 [==============================] - 5s 87ms/step - loss: 2.0045 - lr: 0.0010\n",
      "Epoch 72/150\n",
      "61/61 [==============================] - ETA: 0s - loss: 1.9808\n",
      "Epoch 72: loss improved from 2.00449 to 1.98076, saving model to nextword1.h5\n",
      "61/61 [==============================] - 5s 80ms/step - loss: 1.9808 - lr: 0.0010\n",
      "Epoch 73/150\n",
      "61/61 [==============================] - ETA: 0s - loss: 1.9380\n",
      "Epoch 73: loss improved from 1.98076 to 1.93796, saving model to nextword1.h5\n",
      "61/61 [==============================] - 5s 80ms/step - loss: 1.9380 - lr: 0.0010\n",
      "Epoch 74/150\n",
      "61/61 [==============================] - ETA: 0s - loss: 1.8897\n",
      "Epoch 74: loss improved from 1.93796 to 1.88974, saving model to nextword1.h5\n",
      "61/61 [==============================] - 5s 86ms/step - loss: 1.8897 - lr: 0.0010\n",
      "Epoch 75/150\n",
      "61/61 [==============================] - ETA: 0s - loss: 1.8867\n",
      "Epoch 75: loss improved from 1.88974 to 1.88674, saving model to nextword1.h5\n",
      "61/61 [==============================] - 6s 94ms/step - loss: 1.8867 - lr: 0.0010\n",
      "Epoch 76/150\n",
      "61/61 [==============================] - ETA: 0s - loss: 1.8335\n",
      "Epoch 76: loss improved from 1.88674 to 1.83352, saving model to nextword1.h5\n",
      "61/61 [==============================] - 5s 87ms/step - loss: 1.8335 - lr: 0.0010\n",
      "Epoch 77/150\n",
      "61/61 [==============================] - ETA: 0s - loss: 1.8320\n",
      "Epoch 77: loss improved from 1.83352 to 1.83202, saving model to nextword1.h5\n",
      "61/61 [==============================] - 95s 2s/step - loss: 1.8320 - lr: 0.0010\n",
      "Epoch 78/150\n",
      "61/61 [==============================] - ETA: 0s - loss: 1.8121\n",
      "Epoch 78: loss improved from 1.83202 to 1.81208, saving model to nextword1.h5\n",
      "61/61 [==============================] - 5s 80ms/step - loss: 1.8121 - lr: 0.0010\n",
      "Epoch 79/150\n",
      "61/61 [==============================] - ETA: 0s - loss: 1.8027\n",
      "Epoch 79: loss improved from 1.81208 to 1.80269, saving model to nextword1.h5\n",
      "61/61 [==============================] - 5s 76ms/step - loss: 1.8027 - lr: 0.0010\n",
      "Epoch 80/150\n",
      "61/61 [==============================] - ETA: 0s - loss: 1.7871\n",
      "Epoch 80: loss improved from 1.80269 to 1.78707, saving model to nextword1.h5\n",
      "61/61 [==============================] - 5s 80ms/step - loss: 1.7871 - lr: 0.0010\n",
      "Epoch 81/150\n",
      "61/61 [==============================] - ETA: 0s - loss: 1.7703\n",
      "Epoch 81: loss improved from 1.78707 to 1.77025, saving model to nextword1.h5\n",
      "61/61 [==============================] - 5s 76ms/step - loss: 1.7703 - lr: 0.0010\n",
      "Epoch 82/150\n",
      "61/61 [==============================] - ETA: 0s - loss: 1.7558\n",
      "Epoch 82: loss improved from 1.77025 to 1.75581, saving model to nextword1.h5\n",
      "61/61 [==============================] - 5s 75ms/step - loss: 1.7558 - lr: 0.0010\n",
      "Epoch 83/150\n",
      "61/61 [==============================] - ETA: 0s - loss: 1.7296\n",
      "Epoch 83: loss improved from 1.75581 to 1.72959, saving model to nextword1.h5\n",
      "61/61 [==============================] - 5s 75ms/step - loss: 1.7296 - lr: 0.0010\n",
      "Epoch 84/150\n",
      "61/61 [==============================] - ETA: 0s - loss: 1.7265\n",
      "Epoch 84: loss improved from 1.72959 to 1.72654, saving model to nextword1.h5\n",
      "61/61 [==============================] - 5s 78ms/step - loss: 1.7265 - lr: 0.0010\n",
      "Epoch 85/150\n",
      "61/61 [==============================] - ETA: 0s - loss: 1.7190\n",
      "Epoch 85: loss improved from 1.72654 to 1.71901, saving model to nextword1.h5\n",
      "61/61 [==============================] - 5s 76ms/step - loss: 1.7190 - lr: 0.0010\n",
      "Epoch 86/150\n",
      "61/61 [==============================] - ETA: 0s - loss: 1.6759\n",
      "Epoch 86: loss improved from 1.71901 to 1.67592, saving model to nextword1.h5\n",
      "61/61 [==============================] - 5s 77ms/step - loss: 1.6759 - lr: 0.0010\n",
      "Epoch 87/150\n",
      "61/61 [==============================] - ETA: 0s - loss: 1.6440\n",
      "Epoch 87: loss improved from 1.67592 to 1.64399, saving model to nextword1.h5\n",
      "61/61 [==============================] - 5s 80ms/step - loss: 1.6440 - lr: 0.0010\n",
      "Epoch 88/150\n",
      "61/61 [==============================] - ETA: 0s - loss: 1.6216\n",
      "Epoch 88: loss improved from 1.64399 to 1.62160, saving model to nextword1.h5\n",
      "61/61 [==============================] - 5s 77ms/step - loss: 1.6216 - lr: 0.0010\n",
      "Epoch 89/150\n",
      "61/61 [==============================] - ETA: 0s - loss: 1.6095\n",
      "Epoch 89: loss improved from 1.62160 to 1.60945, saving model to nextword1.h5\n",
      "61/61 [==============================] - 5s 79ms/step - loss: 1.6095 - lr: 0.0010\n",
      "Epoch 90/150\n",
      "61/61 [==============================] - ETA: 0s - loss: 1.6218\n",
      "Epoch 90: loss did not improve from 1.60945\n",
      "61/61 [==============================] - 5s 79ms/step - loss: 1.6218 - lr: 0.0010\n",
      "Epoch 91/150\n",
      "61/61 [==============================] - ETA: 0s - loss: 1.5992\n",
      "Epoch 91: loss improved from 1.60945 to 1.59923, saving model to nextword1.h5\n",
      "61/61 [==============================] - 5s 81ms/step - loss: 1.5992 - lr: 0.0010\n",
      "Epoch 92/150\n",
      "61/61 [==============================] - ETA: 0s - loss: 1.5750\n",
      "Epoch 92: loss improved from 1.59923 to 1.57503, saving model to nextword1.h5\n",
      "61/61 [==============================] - 5s 78ms/step - loss: 1.5750 - lr: 0.0010\n",
      "Epoch 93/150\n",
      "61/61 [==============================] - ETA: 0s - loss: 1.5816\n",
      "Epoch 93: loss did not improve from 1.57503\n",
      "61/61 [==============================] - 5s 75ms/step - loss: 1.5816 - lr: 0.0010\n",
      "Epoch 94/150\n",
      "61/61 [==============================] - ETA: 0s - loss: 1.5946\n",
      "Epoch 94: loss did not improve from 1.57503\n",
      "61/61 [==============================] - 5s 79ms/step - loss: 1.5946 - lr: 0.0010\n",
      "Epoch 95/150\n",
      "61/61 [==============================] - ETA: 0s - loss: 1.5580\n",
      "Epoch 95: loss improved from 1.57503 to 1.55798, saving model to nextword1.h5\n",
      "61/61 [==============================] - 5s 79ms/step - loss: 1.5580 - lr: 0.0010\n",
      "Epoch 96/150\n",
      "61/61 [==============================] - ETA: 0s - loss: 1.5604\n",
      "Epoch 96: loss did not improve from 1.55798\n",
      "61/61 [==============================] - 5s 76ms/step - loss: 1.5604 - lr: 0.0010\n",
      "Epoch 97/150\n",
      "61/61 [==============================] - ETA: 0s - loss: 1.5322\n",
      "Epoch 97: loss improved from 1.55798 to 1.53215, saving model to nextword1.h5\n",
      "61/61 [==============================] - 5s 83ms/step - loss: 1.5322 - lr: 0.0010\n",
      "Epoch 98/150\n",
      "61/61 [==============================] - ETA: 0s - loss: 1.5145\n",
      "Epoch 98: loss improved from 1.53215 to 1.51453, saving model to nextword1.h5\n",
      "61/61 [==============================] - 5s 79ms/step - loss: 1.5145 - lr: 0.0010\n",
      "Epoch 99/150\n",
      "61/61 [==============================] - ETA: 0s - loss: 1.4938\n",
      "Epoch 99: loss improved from 1.51453 to 1.49382, saving model to nextword1.h5\n",
      "61/61 [==============================] - 5s 78ms/step - loss: 1.4938 - lr: 0.0010\n",
      "Epoch 100/150\n",
      "61/61 [==============================] - ETA: 0s - loss: 1.5005\n",
      "Epoch 100: loss did not improve from 1.49382\n",
      "61/61 [==============================] - 5s 78ms/step - loss: 1.5005 - lr: 0.0010\n",
      "Epoch 101/150\n",
      "61/61 [==============================] - ETA: 0s - loss: 1.4759\n",
      "Epoch 101: loss improved from 1.49382 to 1.47590, saving model to nextword1.h5\n",
      "61/61 [==============================] - 5s 80ms/step - loss: 1.4759 - lr: 0.0010\n",
      "Epoch 102/150\n",
      "61/61 [==============================] - ETA: 0s - loss: 1.4525\n",
      "Epoch 102: loss improved from 1.47590 to 1.45254, saving model to nextword1.h5\n",
      "61/61 [==============================] - 5s 80ms/step - loss: 1.4525 - lr: 0.0010\n",
      "Epoch 103/150\n",
      "61/61 [==============================] - ETA: 0s - loss: 1.4634\n",
      "Epoch 103: loss did not improve from 1.45254\n",
      "61/61 [==============================] - 5s 76ms/step - loss: 1.4634 - lr: 0.0010\n",
      "Epoch 104/150\n",
      "61/61 [==============================] - ETA: 0s - loss: 1.4695\n",
      "Epoch 104: loss did not improve from 1.45254\n",
      "61/61 [==============================] - 5s 90ms/step - loss: 1.4695 - lr: 0.0010\n",
      "Epoch 105/150\n",
      "61/61 [==============================] - ETA: 0s - loss: 1.4607\n",
      "Epoch 105: loss did not improve from 1.45254\n",
      "\n",
      "Epoch 105: ReduceLROnPlateau reducing learning rate to 0.00020000000949949026.\n",
      "61/61 [==============================] - 5s 81ms/step - loss: 1.4607 - lr: 0.0010\n",
      "Epoch 106/150\n",
      "61/61 [==============================] - ETA: 0s - loss: 1.0974\n",
      "Epoch 106: loss improved from 1.45254 to 1.09735, saving model to nextword1.h5\n",
      "61/61 [==============================] - 5s 81ms/step - loss: 1.0974 - lr: 2.0000e-04\n",
      "Epoch 107/150\n",
      "61/61 [==============================] - ETA: 0s - loss: 0.9497\n",
      "Epoch 107: loss improved from 1.09735 to 0.94974, saving model to nextword1.h5\n",
      "61/61 [==============================] - 5s 86ms/step - loss: 0.9497 - lr: 2.0000e-04\n",
      "Epoch 108/150\n",
      "61/61 [==============================] - ETA: 0s - loss: 0.8987\n",
      "Epoch 108: loss improved from 0.94974 to 0.89875, saving model to nextword1.h5\n",
      "61/61 [==============================] - 5s 81ms/step - loss: 0.8987 - lr: 2.0000e-04\n",
      "Epoch 109/150\n",
      "61/61 [==============================] - ETA: 0s - loss: 0.8695\n",
      "Epoch 109: loss improved from 0.89875 to 0.86948, saving model to nextword1.h5\n",
      "61/61 [==============================] - 5s 83ms/step - loss: 0.8695 - lr: 2.0000e-04\n",
      "Epoch 110/150\n",
      "61/61 [==============================] - ETA: 0s - loss: 0.8563\n",
      "Epoch 110: loss improved from 0.86948 to 0.85631, saving model to nextword1.h5\n",
      "61/61 [==============================] - 5s 87ms/step - loss: 0.8563 - lr: 2.0000e-04\n",
      "Epoch 111/150\n",
      "61/61 [==============================] - ETA: 0s - loss: 0.8444\n",
      "Epoch 111: loss improved from 0.85631 to 0.84436, saving model to nextword1.h5\n",
      "61/61 [==============================] - 5s 84ms/step - loss: 0.8444 - lr: 2.0000e-04\n",
      "Epoch 112/150\n",
      "61/61 [==============================] - ETA: 0s - loss: 0.8361\n",
      "Epoch 112: loss improved from 0.84436 to 0.83612, saving model to nextword1.h5\n",
      "61/61 [==============================] - 5s 85ms/step - loss: 0.8361 - lr: 2.0000e-04\n",
      "Epoch 113/150\n",
      "61/61 [==============================] - ETA: 0s - loss: 0.8271\n",
      "Epoch 113: loss improved from 0.83612 to 0.82705, saving model to nextword1.h5\n",
      "61/61 [==============================] - 5s 89ms/step - loss: 0.8271 - lr: 2.0000e-04\n",
      "Epoch 114/150\n",
      "61/61 [==============================] - ETA: 0s - loss: 0.8217\n",
      "Epoch 114: loss improved from 0.82705 to 0.82174, saving model to nextword1.h5\n",
      "61/61 [==============================] - 5s 87ms/step - loss: 0.8217 - lr: 2.0000e-04\n",
      "Epoch 115/150\n",
      "61/61 [==============================] - ETA: 0s - loss: 0.8182\n",
      "Epoch 115: loss improved from 0.82174 to 0.81822, saving model to nextword1.h5\n",
      "61/61 [==============================] - 6s 92ms/step - loss: 0.8182 - lr: 2.0000e-04\n",
      "Epoch 116/150\n",
      "61/61 [==============================] - ETA: 0s - loss: 0.8113\n",
      "Epoch 116: loss improved from 0.81822 to 0.81133, saving model to nextword1.h5\n",
      "61/61 [==============================] - 6s 91ms/step - loss: 0.8113 - lr: 2.0000e-04\n",
      "Epoch 117/150\n",
      "61/61 [==============================] - ETA: 0s - loss: 0.8091\n",
      "Epoch 117: loss improved from 0.81133 to 0.80909, saving model to nextword1.h5\n",
      "61/61 [==============================] - 5s 89ms/step - loss: 0.8091 - lr: 2.0000e-04\n",
      "Epoch 118/150\n",
      "61/61 [==============================] - ETA: 0s - loss: 0.8038\n",
      "Epoch 118: loss improved from 0.80909 to 0.80382, saving model to nextword1.h5\n",
      "61/61 [==============================] - 5s 89ms/step - loss: 0.8038 - lr: 2.0000e-04\n",
      "Epoch 119/150\n",
      "61/61 [==============================] - ETA: 0s - loss: 0.8031\n",
      "Epoch 119: loss improved from 0.80382 to 0.80307, saving model to nextword1.h5\n",
      "61/61 [==============================] - 6s 92ms/step - loss: 0.8031 - lr: 2.0000e-04\n",
      "Epoch 120/150\n",
      "61/61 [==============================] - ETA: 0s - loss: 0.7981\n",
      "Epoch 120: loss improved from 0.80307 to 0.79807, saving model to nextword1.h5\n",
      "61/61 [==============================] - 5s 88ms/step - loss: 0.7981 - lr: 2.0000e-04\n",
      "Epoch 121/150\n",
      "61/61 [==============================] - ETA: 0s - loss: 0.7932\n",
      "Epoch 121: loss improved from 0.79807 to 0.79322, saving model to nextword1.h5\n",
      "61/61 [==============================] - 6s 94ms/step - loss: 0.7932 - lr: 2.0000e-04\n",
      "Epoch 122/150\n",
      "61/61 [==============================] - ETA: 0s - loss: 0.7928\n",
      "Epoch 122: loss improved from 0.79322 to 0.79284, saving model to nextword1.h5\n",
      "61/61 [==============================] - 6s 101ms/step - loss: 0.7928 - lr: 2.0000e-04\n",
      "Epoch 123/150\n",
      "61/61 [==============================] - ETA: 0s - loss: 0.7915\n",
      "Epoch 123: loss improved from 0.79284 to 0.79147, saving model to nextword1.h5\n",
      "61/61 [==============================] - 6s 93ms/step - loss: 0.7915 - lr: 2.0000e-04\n",
      "Epoch 124/150\n",
      "61/61 [==============================] - ETA: 0s - loss: 0.7917\n",
      "Epoch 124: loss did not improve from 0.79147\n",
      "61/61 [==============================] - 6s 94ms/step - loss: 0.7917 - lr: 2.0000e-04\n",
      "Epoch 125/150\n",
      "61/61 [==============================] - ETA: 0s - loss: 0.7864\n",
      "Epoch 125: loss improved from 0.79147 to 0.78644, saving model to nextword1.h5\n",
      "61/61 [==============================] - 6s 99ms/step - loss: 0.7864 - lr: 2.0000e-04\n",
      "Epoch 126/150\n",
      "61/61 [==============================] - ETA: 0s - loss: 0.7827\n",
      "Epoch 126: loss improved from 0.78644 to 0.78273, saving model to nextword1.h5\n",
      "61/61 [==============================] - 6s 97ms/step - loss: 0.7827 - lr: 2.0000e-04\n",
      "Epoch 127/150\n",
      "61/61 [==============================] - ETA: 0s - loss: 0.7843\n",
      "Epoch 127: loss did not improve from 0.78273\n",
      "61/61 [==============================] - 6s 98ms/step - loss: 0.7843 - lr: 2.0000e-04\n",
      "Epoch 128/150\n",
      "61/61 [==============================] - ETA: 0s - loss: 0.7815\n",
      "Epoch 128: loss improved from 0.78273 to 0.78153, saving model to nextword1.h5\n",
      "61/61 [==============================] - 6s 98ms/step - loss: 0.7815 - lr: 2.0000e-04\n",
      "Epoch 129/150\n",
      "61/61 [==============================] - ETA: 0s - loss: 0.7796\n",
      "Epoch 129: loss improved from 0.78153 to 0.77958, saving model to nextword1.h5\n",
      "61/61 [==============================] - 6s 96ms/step - loss: 0.7796 - lr: 2.0000e-04\n",
      "Epoch 130/150\n",
      "61/61 [==============================] - ETA: 0s - loss: 0.7787\n",
      "Epoch 130: loss improved from 0.77958 to 0.77875, saving model to nextword1.h5\n",
      "61/61 [==============================] - 6s 100ms/step - loss: 0.7787 - lr: 2.0000e-04\n",
      "Epoch 131/150\n",
      "61/61 [==============================] - ETA: 0s - loss: 0.7768\n",
      "Epoch 131: loss improved from 0.77875 to 0.77680, saving model to nextword1.h5\n",
      "61/61 [==============================] - 6s 97ms/step - loss: 0.7768 - lr: 2.0000e-04\n",
      "Epoch 132/150\n",
      "61/61 [==============================] - ETA: 0s - loss: 0.7736\n",
      "Epoch 132: loss improved from 0.77680 to 0.77363, saving model to nextword1.h5\n",
      "61/61 [==============================] - 6s 100ms/step - loss: 0.7736 - lr: 2.0000e-04\n",
      "Epoch 133/150\n",
      "61/61 [==============================] - ETA: 0s - loss: 0.7711\n",
      "Epoch 133: loss improved from 0.77363 to 0.77112, saving model to nextword1.h5\n",
      "61/61 [==============================] - 6s 105ms/step - loss: 0.7711 - lr: 2.0000e-04\n",
      "Epoch 134/150\n",
      "61/61 [==============================] - ETA: 0s - loss: 0.7707\n",
      "Epoch 134: loss improved from 0.77112 to 0.77074, saving model to nextword1.h5\n",
      "61/61 [==============================] - 6s 101ms/step - loss: 0.7707 - lr: 2.0000e-04\n",
      "Epoch 135/150\n",
      "61/61 [==============================] - ETA: 0s - loss: 0.7705\n",
      "Epoch 135: loss improved from 0.77074 to 0.77047, saving model to nextword1.h5\n",
      "61/61 [==============================] - 7s 107ms/step - loss: 0.7705 - lr: 2.0000e-04\n",
      "Epoch 136/150\n",
      "61/61 [==============================] - ETA: 0s - loss: 0.7692\n",
      "Epoch 136: loss improved from 0.77047 to 0.76919, saving model to nextword1.h5\n",
      "61/61 [==============================] - 6s 102ms/step - loss: 0.7692 - lr: 2.0000e-04\n",
      "Epoch 137/150\n",
      "61/61 [==============================] - ETA: 0s - loss: 0.7644\n",
      "Epoch 137: loss improved from 0.76919 to 0.76444, saving model to nextword1.h5\n",
      "61/61 [==============================] - 6s 100ms/step - loss: 0.7644 - lr: 2.0000e-04\n",
      "Epoch 138/150\n",
      "61/61 [==============================] - ETA: 0s - loss: 0.7646\n",
      "Epoch 138: loss did not improve from 0.76444\n",
      "61/61 [==============================] - 6s 101ms/step - loss: 0.7646 - lr: 2.0000e-04\n",
      "Epoch 139/150\n",
      "61/61 [==============================] - ETA: 0s - loss: 0.7607\n",
      "Epoch 139: loss improved from 0.76444 to 0.76069, saving model to nextword1.h5\n",
      "61/61 [==============================] - 6s 106ms/step - loss: 0.7607 - lr: 2.0000e-04\n",
      "Epoch 140/150\n",
      "61/61 [==============================] - ETA: 0s - loss: 0.7589\n",
      "Epoch 140: loss improved from 0.76069 to 0.75892, saving model to nextword1.h5\n",
      "61/61 [==============================] - 7s 112ms/step - loss: 0.7589 - lr: 2.0000e-04\n",
      "Epoch 141/150\n",
      "61/61 [==============================] - ETA: 0s - loss: 0.7602\n",
      "Epoch 141: loss did not improve from 0.75892\n",
      "61/61 [==============================] - 6s 102ms/step - loss: 0.7602 - lr: 2.0000e-04\n",
      "Epoch 142/150\n",
      "61/61 [==============================] - ETA: 0s - loss: 0.7627\n",
      "Epoch 142: loss did not improve from 0.75892\n",
      "61/61 [==============================] - 6s 105ms/step - loss: 0.7627 - lr: 2.0000e-04\n",
      "Epoch 143/150\n",
      "61/61 [==============================] - ETA: 0s - loss: 0.7610\n",
      "Epoch 143: loss did not improve from 0.75892\n",
      "\n",
      "Epoch 143: ReduceLROnPlateau reducing learning rate to 0.0001.\n",
      "61/61 [==============================] - 7s 108ms/step - loss: 0.7610 - lr: 2.0000e-04\n",
      "Epoch 144/150\n",
      "61/61 [==============================] - ETA: 0s - loss: 0.6976\n",
      "Epoch 144: loss improved from 0.75892 to 0.69760, saving model to nextword1.h5\n",
      "61/61 [==============================] - 6s 106ms/step - loss: 0.6976 - lr: 1.0000e-04\n",
      "Epoch 145/150\n",
      "61/61 [==============================] - ETA: 0s - loss: 0.6915\n",
      "Epoch 145: loss improved from 0.69760 to 0.69149, saving model to nextword1.h5\n",
      "61/61 [==============================] - 7s 113ms/step - loss: 0.6915 - lr: 1.0000e-04\n",
      "Epoch 146/150\n",
      "61/61 [==============================] - ETA: 0s - loss: 0.6915\n",
      "Epoch 146: loss did not improve from 0.69149\n",
      "61/61 [==============================] - 7s 109ms/step - loss: 0.6915 - lr: 1.0000e-04\n",
      "Epoch 147/150\n",
      "61/61 [==============================] - ETA: 0s - loss: 0.6890\n",
      "Epoch 147: loss improved from 0.69149 to 0.68901, saving model to nextword1.h5\n",
      "61/61 [==============================] - 7s 119ms/step - loss: 0.6890 - lr: 1.0000e-04\n",
      "Epoch 148/150\n",
      "61/61 [==============================] - ETA: 0s - loss: 0.6883\n",
      "Epoch 148: loss improved from 0.68901 to 0.68827, saving model to nextword1.h5\n",
      "61/61 [==============================] - 8s 131ms/step - loss: 0.6883 - lr: 1.0000e-04\n",
      "Epoch 149/150\n",
      "61/61 [==============================] - ETA: 0s - loss: 0.6879\n",
      "Epoch 149: loss improved from 0.68827 to 0.68793, saving model to nextword1.h5\n",
      "61/61 [==============================] - 17s 280ms/step - loss: 0.6879 - lr: 1.0000e-04\n",
      "Epoch 150/150\n",
      "61/61 [==============================] - ETA: 0s - loss: 0.6875\n",
      "Epoch 150: loss improved from 0.68793 to 0.68753, saving model to nextword1.h5\n",
      "61/61 [==============================] - 5s 89ms/step - loss: 0.6875 - lr: 1.0000e-04\n"
     ]
    },
    {
     "data": {
      "text/plain": [
       "<keras.src.callbacks.History at 0x13938cc90>"
      ]
     },
     "execution_count": 17,
     "metadata": {},
     "output_type": "execute_result"
    }
   ],
   "source": [
    "model.fit(X, y, epochs=150, batch_size=64, callbacks=[checkpoint, reduce, tensorboard_Visualization])"
   ]
  }
 ],
 "metadata": {
  "kernelspec": {
   "display_name": "Python 3",
   "language": "python",
   "name": "python3"
  },
  "language_info": {
   "codemirror_mode": {
    "name": "ipython",
    "version": 3
   },
   "file_extension": ".py",
   "mimetype": "text/x-python",
   "name": "python",
   "nbconvert_exporter": "python",
   "pygments_lexer": "ipython3",
   "version": "3.11.4"
  }
 },
 "nbformat": 4,
 "nbformat_minor": 2
}
